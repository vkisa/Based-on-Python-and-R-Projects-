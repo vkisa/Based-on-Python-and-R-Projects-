{
 "cells": [
  {
   "cell_type": "markdown",
   "metadata": {},
   "source": [
    "#Introduction\n",
    "\n",
    "This project aims to predict match score by using generalized linear model (GLM) in Turkish first division league.\n",
    "\n",
    "Data contains 3-years match reasults (2015-2016,2016-2017, 2017-2018)."
   ]
  },
  {
   "cell_type": "code",
   "execution_count": 15,
   "metadata": {
    "collapsed": true
   },
   "outputs": [],
   "source": [
    "import pandas as pd\n",
    "import matplotlib.pyplot as plt\n",
    "import numpy as np\n",
    "import seaborn\n",
    "from scipy.stats import poisson,skellam\n"
   ]
  },
  {
   "cell_type": "code",
   "execution_count": 19,
   "metadata": {
    "collapsed": false
   },
   "outputs": [
    {
     "data": {
      "text/html": [
       "<div>\n",
       "<style>\n",
       "    .dataframe thead tr:only-child th {\n",
       "        text-align: right;\n",
       "    }\n",
       "\n",
       "    .dataframe thead th {\n",
       "        text-align: left;\n",
       "    }\n",
       "\n",
       "    .dataframe tbody tr th {\n",
       "        vertical-align: top;\n",
       "    }\n",
       "</style>\n",
       "<table border=\"1\" class=\"dataframe\">\n",
       "  <thead>\n",
       "    <tr style=\"text-align: right;\">\n",
       "      <th></th>\n",
       "      <th>HomeTeam</th>\n",
       "      <th>AwayTeam</th>\n",
       "      <th>HomeGoals</th>\n",
       "      <th>AwayGoals</th>\n",
       "    </tr>\n",
       "  </thead>\n",
       "  <tbody>\n",
       "    <tr>\n",
       "      <th>0</th>\n",
       "      <td>Buyuksehyr</td>\n",
       "      <td>Bursaspor</td>\n",
       "      <td>1.0</td>\n",
       "      <td>0.0</td>\n",
       "    </tr>\n",
       "    <tr>\n",
       "      <th>1</th>\n",
       "      <td>Akhisar Belediyespor</td>\n",
       "      <td>Sivasspor</td>\n",
       "      <td>1.0</td>\n",
       "      <td>0.0</td>\n",
       "    </tr>\n",
       "    <tr>\n",
       "      <th>2</th>\n",
       "      <td>Alanyaspor</td>\n",
       "      <td>Kasimpasa</td>\n",
       "      <td>1.0</td>\n",
       "      <td>3.0</td>\n",
       "    </tr>\n",
       "    <tr>\n",
       "      <th>3</th>\n",
       "      <td>Genclerbirligi</td>\n",
       "      <td>Karabukspor</td>\n",
       "      <td>1.0</td>\n",
       "      <td>1.0</td>\n",
       "    </tr>\n",
       "    <tr>\n",
       "      <th>4</th>\n",
       "      <td>Goztep</td>\n",
       "      <td>Fenerbahce</td>\n",
       "      <td>2.0</td>\n",
       "      <td>2.0</td>\n",
       "    </tr>\n",
       "  </tbody>\n",
       "</table>\n",
       "</div>"
      ],
      "text/plain": [
       "               HomeTeam     AwayTeam  HomeGoals  AwayGoals\n",
       "0            Buyuksehyr    Bursaspor        1.0        0.0\n",
       "1  Akhisar Belediyespor    Sivasspor        1.0        0.0\n",
       "2            Alanyaspor    Kasimpasa        1.0        3.0\n",
       "3        Genclerbirligi  Karabukspor        1.0        1.0\n",
       "4                Goztep   Fenerbahce        2.0        2.0"
      ]
     },
     "execution_count": 19,
     "metadata": {},
     "output_type": "execute_result"
    }
   ],
   "source": [
    "tsl_1516 = pd.read_csv(\"C:/Users/Veli/Documents/R/football prediction/turkishleague/2015-2016.csv\")\n",
    "tsl_1617 = pd.read_csv(\"C:/Users/Veli/Documents/R/football prediction/turkishleague/2016-2017.csv\")\n",
    "tsl_1718 = pd.read_csv(\"C:/Users/Veli/Documents/R/football prediction/turkishleague/2017-2018.csv\")\n",
    "tsl=tsl_1516.append(tsl_1617)\n",
    "tsl=tsl.append(tsl_1718)\n",
    "tsl = tsl.dropna()\n",
    "tsl = tsl[['HomeTeam','AwayTeam','FTHG','FTAG']]\n",
    "tsl = tsl.rename(columns={'FTHG': 'HomeGoals', 'FTAG': 'AwayGoals'})\n",
    "tsl.head()\n"
   ]
  },
  {
   "cell_type": "markdown",
   "metadata": {},
   "source": [
    "Data frame is restricted to the columns in which we are interested. These columns,\n",
    "\n",
    "HomeTeam= The team that is playing in the usual area that they play in\n",
    "AwayTeam= The team that is playing away from home.\n",
    "FTHG= Full Time Home Team Goals\n",
    "FTAG= Full Time Away Team Goals"
   ]
  },
  {
   "cell_type": "code",
   "execution_count": 20,
   "metadata": {
    "collapsed": false
   },
   "outputs": [
    {
     "data": {
      "text/plain": [
       "HomeGoals    1.658182\n",
       "AwayGoals    1.240000\n",
       "dtype: float64"
      ]
     },
     "execution_count": 20,
     "metadata": {},
     "output_type": "execute_result"
    }
   ],
   "source": [
    "tsl = tsl[:-10]\n",
    "tsl.mean()"
   ]
  },
  {
   "cell_type": "markdown",
   "metadata": {},
   "source": [
    "The home team scores more goals than away team. This can be descired as home field advantage. It's a discrete probability distribution that describes the probability of the number of scores within a match (90 mins) with a known average rate of occurrence. We know that the goals don't become more or less probable by the number of goals already scored in the match. So the number of goals is independent of time. Number of goals can be counted as  function of average rate of goals.\n",
    "$$f(x)=\\frac{exp^{-\\lambda}\\lambda^x}{x!},\\quad \\lambda>0$$\n",
    "\n",
    "$\\lambda$ represents the average number of goals in a match. \"Home Goals\" and \"Away Goals\" can be assumed as two independent Poisson distribution.\n",
    "\n",
    "$P(HomeGoals>AwayGoals)$ means that home team wins the match.\n",
    "$P(AwayGoals>homeGoals)$ means that away team wins the match.\n",
    "$P(HomeGoals=AwayGoals)$ mean that draw.\n",
    "\n",
    "Assumption of the independence of goals scored by each teams,$P(A\\cap B)=P(A)P(B)$ let us to construct the modal easily.\n"
   ]
  },
  {
   "cell_type": "markdown",
   "metadata": {},
   "source": [
    "##Skellam Distribution\n",
    "\n",
    "The difference of two Poisson distributions called as Skellam distribution.\n",
    "Under the condition that difference of two Poisson distributions is 0,the draw status can be computed by skellam distribution."
   ]
  },
  {
   "cell_type": "code",
   "execution_count": 22,
   "metadata": {
    "collapsed": false
   },
   "outputs": [
    {
     "data": {
      "image/png": "[encoded data removed]",
      "text/plain": [
       "<matplotlib.figure.Figure at 0x276eefdb438>"
      ]
     },
     "metadata": {},
     "output_type": "display_data"
    }
   ],
   "source": [
    "poisson_pred = np.column_stack([[poisson.pmf(i, tsl.mean()[j]) for i in range(8)] for j in range(2)])\n",
    "\n",
    "# plot histogram of actual goals\n",
    "plt.hist(tsl[['HomeGoals', 'AwayGoals']].values, range(9), \n",
    "         alpha=0.7, label=['Home', 'Away'],normed=True, color=[\"#FFA07A\", \"#20B2AA\"])\n",
    "\n",
    "pois1, = plt.plot([i-0.5 for i in range(1,9)], poisson_pred[:,0],\n",
    "                  linestyle='-', marker='o',label=\"Home\", color = '#CD5C5C')\n",
    "pois2, = plt.plot([i-0.5 for i in range(1,9)], poisson_pred[:,1],\n",
    "                  linestyle='-', marker='o',label=\"Away\", color = '#006400')\n",
    "\n",
    "leg=plt.legend(loc='upper right', fontsize=13, ncol=2)\n",
    "leg.set_title(\"Poisson           Actual        \", prop = {'size':'14', 'weight':'bold'})\n",
    "\n",
    "plt.xticks([i-0.5 for i in range(1,9)],[i for i in range(9)])\n",
    "plt.xlabel(\"Goals per Match\",size=13)\n",
    "plt.ylabel(\"Proportion of Matches\",size=13)\n",
    "plt.title(\"Number of Goals per Match (TSL 2015-2018  Sum Season)\",size=14,fontweight='bold')\n",
    "plt.ylim([-0.004, 0.4])\n",
    "plt.tight_layout()\n",
    "plt.show()\n",
    "\n"
   ]
  },
  {
   "cell_type": "code",
   "execution_count": 24,
   "metadata": {
    "collapsed": false
   },
   "outputs": [
    {
     "data": {
      "text/plain": [
       "0.24189680197116309"
      ]
     },
     "execution_count": 24,
     "metadata": {},
     "output_type": "execute_result"
    }
   ],
   "source": [
    "# probability of draw between home and away team\n",
    "skellam.pmf(0.0,  tsl.mean()[0],  tsl.mean()[1])"
   ]
  },
  {
   "cell_type": "code",
   "execution_count": 25,
   "metadata": {
    "collapsed": false
   },
   "outputs": [
    {
     "data": {
      "image/png": "[encoded data removed]",
      "text/plain": [
       "<matplotlib.figure.Figure at 0x276ef5603c8>"
      ]
     },
     "metadata": {},
     "output_type": "display_data"
    }
   ],
   "source": [
    "skellam_pred = [skellam.pmf(i,  tsl.mean()[0],  tsl.mean()[1]) for i in range(-6,8)]\n",
    "\n",
    "plt.hist(tsl[['HomeGoals']].values - tsl[['AwayGoals']].values, range(-6,8), \n",
    "         alpha=0.7, label='Actual',normed=True)\n",
    "plt.plot([i+0.5 for i in range(-6,8)], skellam_pred,\n",
    "                  linestyle='-', marker='o',label=\"Skellam\", color = '#CD5C5C')\n",
    "plt.legend(loc='upper right', fontsize=13)\n",
    "plt.xticks([i+0.5 for i in range(-6,8)],[i for i in range(-6,8)])\n",
    "plt.xlabel(\"Home Goals - Away Goals\",size=13)\n",
    "plt.ylabel(\"Proportion of Matches\",size=13)\n",
    "plt.title(\"Difference in Goals Scored (Home Team vs Away Team)\",size=14,fontweight='bold')\n",
    "plt.ylim([-0.004, 0.26])\n",
    "plt.tight_layout()\n",
    "plt.show()"
   ]
  },
  {
   "cell_type": "markdown",
   "metadata": {},
   "source": [
    "#Building a Model\n",
    "\n",
    "The result of matches is modeled  by glm with poisson family and log link function."
   ]
  },
  {
   "cell_type": "code",
   "execution_count": 35,
   "metadata": {
    "collapsed": false
   },
   "outputs": [
    {
     "data": {
      "text/html": [
       "<table class=\"simpletable\">\n",
       "<caption>Generalized Linear Model Regression Results</caption>\n",
       "<tr>\n",
       "  <th>Dep. Variable:</th>        <td>goals</td>      <th>  No. Observations:  </th>  <td>   550</td> \n",
       "</tr>\n",
       "<tr>\n",
       "  <th>Model:</th>                 <td>GLM</td>       <th>  Df Residuals:      </th>  <td>   514</td> \n",
       "</tr>\n",
       "<tr>\n",
       "  <th>Model Family:</th>        <td>Poisson</td>     <th>  Df Model:          </th>  <td>    35</td> \n",
       "</tr>\n",
       "<tr>\n",
       "  <th>Link Function:</th>         <td>log</td>       <th>  Scale:             </th>    <td>1.0</td>  \n",
       "</tr>\n",
       "<tr>\n",
       "  <th>Method:</th>               <td>IRLS</td>       <th>  Log-Likelihood:    </th> <td> -788.88</td>\n",
       "</tr>\n",
       "<tr>\n",
       "  <th>Date:</th>           <td>Wed, 26 Jun 2019</td> <th>  Deviance:          </th> <td>  553.88</td>\n",
       "</tr>\n",
       "<tr>\n",
       "  <th>Time:</th>               <td>10:50:25</td>     <th>  Pearson chi2:      </th>  <td>  485.</td> \n",
       "</tr>\n",
       "<tr>\n",
       "  <th>No. Iterations:</th>         <td>5</td>        <th>                     </th>     <td> </td>   \n",
       "</tr>\n",
       "</table>\n",
       "<table class=\"simpletable\">\n",
       "<tr>\n",
       "                <td></td>                  <th>coef</th>     <th>std err</th>      <th>z</th>      <th>P>|z|</th>  <th>[0.025</th>    <th>0.975]</th>  \n",
       "</tr>\n",
       "<tr>\n",
       "  <th>Intercept</th>                    <td>    0.1610</td> <td>    0.219</td> <td>    0.736</td> <td> 0.462</td> <td>   -0.268</td> <td>    0.590</td>\n",
       "</tr>\n",
       "<tr>\n",
       "  <th>team[T.Alanyaspor]</th>           <td>    0.2301</td> <td>    0.213</td> <td>    1.081</td> <td> 0.280</td> <td>   -0.187</td> <td>    0.647</td>\n",
       "</tr>\n",
       "<tr>\n",
       "  <th>team[T.Antalyaspor]</th>          <td>   -0.0586</td> <td>    0.227</td> <td>   -0.258</td> <td> 0.796</td> <td>   -0.504</td> <td>    0.387</td>\n",
       "</tr>\n",
       "<tr>\n",
       "  <th>team[T.Besiktas]</th>             <td>    0.3587</td> <td>    0.208</td> <td>    1.727</td> <td> 0.084</td> <td>   -0.048</td> <td>    0.766</td>\n",
       "</tr>\n",
       "<tr>\n",
       "  <th>team[T.Bursaspor]</th>            <td>   -0.0464</td> <td>    0.234</td> <td>   -0.198</td> <td> 0.843</td> <td>   -0.505</td> <td>    0.413</td>\n",
       "</tr>\n",
       "<tr>\n",
       "  <th>team[T.Buyuksehyr]</th>           <td>    0.3545</td> <td>    0.207</td> <td>    1.713</td> <td> 0.087</td> <td>   -0.051</td> <td>    0.760</td>\n",
       "</tr>\n",
       "<tr>\n",
       "  <th>team[T.Fenerbahce]</th>           <td>    0.5183</td> <td>    0.201</td> <td>    2.577</td> <td> 0.010</td> <td>    0.124</td> <td>    0.913</td>\n",
       "</tr>\n",
       "<tr>\n",
       "  <th>team[T.Galatasaray]</th>          <td>    0.5530</td> <td>    0.199</td> <td>    2.780</td> <td> 0.005</td> <td>    0.163</td> <td>    0.943</td>\n",
       "</tr>\n",
       "<tr>\n",
       "  <th>team[T.Genclerbirligi]</th>       <td>   -0.1363</td> <td>    0.232</td> <td>   -0.587</td> <td> 0.557</td> <td>   -0.591</td> <td>    0.319</td>\n",
       "</tr>\n",
       "<tr>\n",
       "  <th>team[T.Goztep]</th>               <td>    0.1599</td> <td>    0.216</td> <td>    0.741</td> <td> 0.459</td> <td>   -0.263</td> <td>    0.583</td>\n",
       "</tr>\n",
       "<tr>\n",
       "  <th>team[T.Karabukspor]</th>          <td>   -0.7355</td> <td>    0.297</td> <td>   -2.479</td> <td> 0.013</td> <td>   -1.317</td> <td>   -0.154</td>\n",
       "</tr>\n",
       "<tr>\n",
       "  <th>team[T.Kasimpasa]</th>            <td>    0.2569</td> <td>    0.211</td> <td>    1.218</td> <td> 0.223</td> <td>   -0.157</td> <td>    0.670</td>\n",
       "</tr>\n",
       "<tr>\n",
       "  <th>team[T.Kayserispor]</th>          <td>   -0.0077</td> <td>    0.227</td> <td>   -0.034</td> <td> 0.973</td> <td>   -0.452</td> <td>    0.437</td>\n",
       "</tr>\n",
       "<tr>\n",
       "  <th>team[T.Konyaspor]</th>            <td>   -0.1607</td> <td>    0.240</td> <td>   -0.669</td> <td> 0.504</td> <td>   -0.632</td> <td>    0.310</td>\n",
       "</tr>\n",
       "<tr>\n",
       "  <th>team[T.Osmanlispor]</th>          <td>    0.0858</td> <td>    0.220</td> <td>    0.390</td> <td> 0.696</td> <td>   -0.345</td> <td>    0.517</td>\n",
       "</tr>\n",
       "<tr>\n",
       "  <th>team[T.Sivasspor]</th>            <td>    0.0701</td> <td>    0.222</td> <td>    0.316</td> <td> 0.752</td> <td>   -0.364</td> <td>    0.505</td>\n",
       "</tr>\n",
       "<tr>\n",
       "  <th>team[T.Trabzonspor]</th>          <td>    0.3320</td> <td>    0.210</td> <td>    1.580</td> <td> 0.114</td> <td>   -0.080</td> <td>    0.744</td>\n",
       "</tr>\n",
       "<tr>\n",
       "  <th>team[T.Yeni Malatyaspor]</th>     <td>   -0.1960</td> <td>    0.245</td> <td>   -0.801</td> <td> 0.423</td> <td>   -0.676</td> <td>    0.284</td>\n",
       "</tr>\n",
       "<tr>\n",
       "  <th>opponent[T.Alanyaspor]</th>       <td>    0.0888</td> <td>    0.195</td> <td>    0.455</td> <td> 0.649</td> <td>   -0.294</td> <td>    0.471</td>\n",
       "</tr>\n",
       "<tr>\n",
       "  <th>opponent[T.Antalyaspor]</th>      <td>    0.0702</td> <td>    0.196</td> <td>    0.358</td> <td> 0.720</td> <td>   -0.314</td> <td>    0.454</td>\n",
       "</tr>\n",
       "<tr>\n",
       "  <th>opponent[T.Besiktas]</th>         <td>   -0.5982</td> <td>    0.239</td> <td>   -2.508</td> <td> 0.012</td> <td>   -1.066</td> <td>   -0.131</td>\n",
       "</tr>\n",
       "<tr>\n",
       "  <th>opponent[T.Bursaspor]</th>        <td>   -0.1197</td> <td>    0.211</td> <td>   -0.568</td> <td> 0.570</td> <td>   -0.533</td> <td>    0.293</td>\n",
       "</tr>\n",
       "<tr>\n",
       "  <th>opponent[T.Buyuksehyr]</th>       <td>   -0.4467</td> <td>    0.231</td> <td>   -1.936</td> <td> 0.053</td> <td>   -0.899</td> <td>    0.006</td>\n",
       "</tr>\n",
       "<tr>\n",
       "  <th>opponent[T.Fenerbahce]</th>       <td>   -0.3920</td> <td>    0.224</td> <td>   -1.749</td> <td> 0.080</td> <td>   -0.831</td> <td>    0.047</td>\n",
       "</tr>\n",
       "<tr>\n",
       "  <th>opponent[T.Galatasaray]</th>      <td>   -0.3602</td> <td>    0.224</td> <td>   -1.607</td> <td> 0.108</td> <td>   -0.799</td> <td>    0.079</td>\n",
       "</tr>\n",
       "<tr>\n",
       "  <th>opponent[T.Genclerbirligi]</th>   <td>   -0.0006</td> <td>    0.199</td> <td>   -0.003</td> <td> 0.997</td> <td>   -0.390</td> <td>    0.389</td>\n",
       "</tr>\n",
       "<tr>\n",
       "  <th>opponent[T.Goztep]</th>           <td>   -0.0281</td> <td>    0.204</td> <td>   -0.138</td> <td> 0.891</td> <td>   -0.428</td> <td>    0.372</td>\n",
       "</tr>\n",
       "<tr>\n",
       "  <th>opponent[T.Karabukspor]</th>      <td>    0.3117</td> <td>    0.193</td> <td>    1.616</td> <td> 0.106</td> <td>   -0.066</td> <td>    0.690</td>\n",
       "</tr>\n",
       "<tr>\n",
       "  <th>opponent[T.Kasimpasa]</th>        <td>    0.0819</td> <td>    0.196</td> <td>    0.418</td> <td> 0.676</td> <td>   -0.302</td> <td>    0.466</td>\n",
       "</tr>\n",
       "<tr>\n",
       "  <th>opponent[T.Kayserispor]</th>      <td>   -0.0574</td> <td>    0.201</td> <td>   -0.285</td> <td> 0.776</td> <td>   -0.452</td> <td>    0.337</td>\n",
       "</tr>\n",
       "<tr>\n",
       "  <th>opponent[T.Konyaspor]</th>        <td>   -0.2516</td> <td>    0.217</td> <td>   -1.161</td> <td> 0.246</td> <td>   -0.676</td> <td>    0.173</td>\n",
       "</tr>\n",
       "<tr>\n",
       "  <th>opponent[T.Osmanlispor]</th>      <td>    0.0581</td> <td>    0.198</td> <td>    0.293</td> <td> 0.770</td> <td>   -0.331</td> <td>    0.447</td>\n",
       "</tr>\n",
       "<tr>\n",
       "  <th>opponent[T.Sivasspor]</th>        <td>   -0.0587</td> <td>    0.204</td> <td>   -0.288</td> <td> 0.774</td> <td>   -0.459</td> <td>    0.341</td>\n",
       "</tr>\n",
       "<tr>\n",
       "  <th>opponent[T.Trabzonspor]</th>      <td>   -0.0500</td> <td>    0.203</td> <td>   -0.246</td> <td> 0.805</td> <td>   -0.447</td> <td>    0.348</td>\n",
       "</tr>\n",
       "<tr>\n",
       "  <th>opponent[T.Yeni Malatyaspor]</th> <td>   -0.2780</td> <td>    0.220</td> <td>   -1.262</td> <td> 0.207</td> <td>   -0.710</td> <td>    0.154</td>\n",
       "</tr>\n",
       "<tr>\n",
       "  <th>home</th>                         <td>    0.3036</td> <td>    0.072</td> <td>    4.235</td> <td> 0.000</td> <td>    0.163</td> <td>    0.444</td>\n",
       "</tr>\n",
       "</table>"
      ],
      "text/plain": [
       "<class 'statsmodels.iolib.summary.Summary'>\n",
       "\"\"\"\n",
       "                 Generalized Linear Model Regression Results                  \n",
       "==============================================================================\n",
       "Dep. Variable:                  goals   No. Observations:                  550\n",
       "Model:                            GLM   Df Residuals:                      514\n",
       "Model Family:                 Poisson   Df Model:                           35\n",
       "Link Function:                    log   Scale:                             1.0\n",
       "Method:                          IRLS   Log-Likelihood:                -788.88\n",
       "Date:                Wed, 26 Jun 2019   Deviance:                       553.88\n",
       "Time:                        10:50:25   Pearson chi2:                     485.\n",
       "No. Iterations:                     5                                         \n",
       "================================================================================================\n",
       "                                   coef    std err          z      P>|z|      [0.025      0.975]\n",
       "------------------------------------------------------------------------------------------------\n",
       "Intercept                        0.1610      0.219      0.736      0.462      -0.268       0.590\n",
       "team[T.Alanyaspor]               0.2301      0.213      1.081      0.280      -0.187       0.647\n",
       "team[T.Antalyaspor]             -0.0586      0.227     -0.258      0.796      -0.504       0.387\n",
       "team[T.Besiktas]                 0.3587      0.208      1.727      0.084      -0.048       0.766\n",
       "team[T.Bursaspor]               -0.0464      0.234     -0.198      0.843      -0.505       0.413\n",
       "team[T.Buyuksehyr]               0.3545      0.207      1.713      0.087      -0.051       0.760\n",
       "team[T.Fenerbahce]               0.5183      0.201      2.577      0.010       0.124       0.913\n",
       "team[T.Galatasaray]              0.5530      0.199      2.780      0.005       0.163       0.943\n",
       "team[T.Genclerbirligi]          -0.1363      0.232     -0.587      0.557      -0.591       0.319\n",
       "team[T.Goztep]                   0.1599      0.216      0.741      0.459      -0.263       0.583\n",
       "team[T.Karabukspor]             -0.7355      0.297     -2.479      0.013      -1.317      -0.154\n",
       "team[T.Kasimpasa]                0.2569      0.211      1.218      0.223      -0.157       0.670\n",
       "team[T.Kayserispor]             -0.0077      0.227     -0.034      0.973      -0.452       0.437\n",
       "team[T.Konyaspor]               -0.1607      0.240     -0.669      0.504      -0.632       0.310\n",
       "team[T.Osmanlispor]              0.0858      0.220      0.390      0.696      -0.345       0.517\n",
       "team[T.Sivasspor]                0.0701      0.222      0.316      0.752      -0.364       0.505\n",
       "team[T.Trabzonspor]              0.3320      0.210      1.580      0.114      -0.080       0.744\n",
       "team[T.Yeni Malatyaspor]        -0.1960      0.245     -0.801      0.423      -0.676       0.284\n",
       "opponent[T.Alanyaspor]           0.0888      0.195      0.455      0.649      -0.294       0.471\n",
       "opponent[T.Antalyaspor]          0.0702      0.196      0.358      0.720      -0.314       0.454\n",
       "opponent[T.Besiktas]            -0.5982      0.239     -2.508      0.012      -1.066      -0.131\n",
       "opponent[T.Bursaspor]           -0.1197      0.211     -0.568      0.570      -0.533       0.293\n",
       "opponent[T.Buyuksehyr]          -0.4467      0.231     -1.936      0.053      -0.899       0.006\n",
       "opponent[T.Fenerbahce]          -0.3920      0.224     -1.749      0.080      -0.831       0.047\n",
       "opponent[T.Galatasaray]         -0.3602      0.224     -1.607      0.108      -0.799       0.079\n",
       "opponent[T.Genclerbirligi]      -0.0006      0.199     -0.003      0.997      -0.390       0.389\n",
       "opponent[T.Goztep]              -0.0281      0.204     -0.138      0.891      -0.428       0.372\n",
       "opponent[T.Karabukspor]          0.3117      0.193      1.616      0.106      -0.066       0.690\n",
       "opponent[T.Kasimpasa]            0.0819      0.196      0.418      0.676      -0.302       0.466\n",
       "opponent[T.Kayserispor]         -0.0574      0.201     -0.285      0.776      -0.452       0.337\n",
       "opponent[T.Konyaspor]           -0.2516      0.217     -1.161      0.246      -0.676       0.173\n",
       "opponent[T.Osmanlispor]          0.0581      0.198      0.293      0.770      -0.331       0.447\n",
       "opponent[T.Sivasspor]           -0.0587      0.204     -0.288      0.774      -0.459       0.341\n",
       "opponent[T.Trabzonspor]         -0.0500      0.203     -0.246      0.805      -0.447       0.348\n",
       "opponent[T.Yeni Malatyaspor]    -0.2780      0.220     -1.262      0.207      -0.710       0.154\n",
       "home                             0.3036      0.072      4.235      0.000       0.163       0.444\n",
       "================================================================================================\n",
       "\"\"\""
      ]
     },
     "execution_count": 35,
     "metadata": {},
     "output_type": "execute_result"
    }
   ],
   "source": [
    "# importing the tools required for the Poisson regression model\n",
    "import statsmodels.api as sm\n",
    "import statsmodels.formula.api as smf\n",
    "\n",
    "goal_model_data = pd.concat([tsl[['HomeTeam','AwayTeam','HomeGoals']].assign(home=1).rename(\n",
    "            columns={'HomeTeam':'team', 'AwayTeam':'opponent','HomeGoals':'goals'}),\n",
    "           tsl[['AwayTeam','HomeTeam','AwayGoals']].assign(home=0).rename(\n",
    "            columns={'AwayTeam':'team', 'HomeTeam':'opponent','AwayGoals':'goals'})])\n",
    "\n",
    "poisson_model = smf.glm(formula=\"goals ~ home + team + opponent\", data=goal_model_data, \n",
    "                        family=sm.families.Poisson()).fit()\n",
    "poisson_model.summary()"
   ]
  },
  {
   "cell_type": "markdown",
   "metadata": {},
   "source": [
    "When we examine the coefficients table, there are both positive and negative values. Similar to logistic regression, we take the exponent of the parameter values. A positive value implies more goals, while negative value that close to zero represent neutral effect.\n",
    "According to coefficents table, \"home\" has coefficient of 0.26948 and we can say that home teams generally score more goals with $e^{0.26946}=1.34913$ times more likely  than the away teams. But this is not the same for all teams. For example, Besiktas and Fenerbahce are better scorers  than average with 0.79256 and 0.70061 parameters respectively, while Kasimpasa is worse scorer than average with -0.21928 parameter. Eventually, the _opponent_ values penalize or reward teams based on the quality of the opposition."
   ]
  },
  {
   "cell_type": "markdown",
   "metadata": {},
   "source": [
    "#Predictions\n",
    "\n",
    "We now start making some predictions for the upcoming matches. Firstly,let us compute what is the expected average number of goals based on poisson distribution by selected teams."
   ]
  },
  {
   "cell_type": "code",
   "execution_count": 28,
   "metadata": {
    "collapsed": false
   },
   "outputs": [
    {
     "data": {
      "text/plain": [
       "1    2.472279\n",
       "dtype: float64"
      ]
     },
     "execution_count": 28,
     "metadata": {},
     "output_type": "execute_result"
    }
   ],
   "source": [
    "poisson_model.predict(pd.DataFrame(data={'team': 'Besiktas', 'opponent': 'Kasimpasa',\n",
    "                                       'home':1},index=[1]))"
   ]
  },
  {
   "cell_type": "code",
   "execution_count": 29,
   "metadata": {
    "collapsed": false
   },
   "outputs": [
    {
     "data": {
      "text/plain": [
       "1    0.83508\n",
       "dtype: float64"
      ]
     },
     "execution_count": 29,
     "metadata": {},
     "output_type": "execute_result"
    }
   ],
   "source": [
    "poisson_model.predict(pd.DataFrame(data={'team': 'Kasimpasa', 'opponent': 'Besiktas',\n",
    "                                       'home':0},index=[1]))"
   ]
  },
  {
   "cell_type": "markdown",
   "metadata": {},
   "source": [
    "We have two Poisson distributions. By creating a function called \"sim_match\" we can calculate the probability of various events."
   ]
  },
  {
   "cell_type": "code",
   "execution_count": 30,
   "metadata": {
    "collapsed": false
   },
   "outputs": [
    {
     "data": {
      "text/plain": [
       "array([[ 0.03661273,  0.03057458,  0.01276611,  0.00355358],\n",
       "       [ 0.09051688,  0.07558887,  0.03156139,  0.00878543],\n",
       "       [ 0.11189149,  0.09343839,  0.03901428,  0.01086002],\n",
       "       [ 0.09220899,  0.07700191,  0.03215139,  0.00894967]])"
      ]
     },
     "execution_count": 30,
     "metadata": {},
     "output_type": "execute_result"
    }
   ],
   "source": [
    "def simulate_match(tsl_model, homeTeam, awayTeam, max_goals=10):\n",
    "    home_goals_avg = tsl_model.predict(pd.DataFrame(data={'team': homeTeam, \n",
    "                                                            'opponent': awayTeam,'home':1},\n",
    "                                                      index=[1])).values[0]\n",
    "    away_goals_avg = tsl_model.predict(pd.DataFrame(data={'team': awayTeam, \n",
    "                                                            'opponent': homeTeam,'home':0},\n",
    "                                                      index=[1])).values[0]\n",
    "    team_pred = [[poisson.pmf(i, team_avg) for i in range(0, max_goals+1)] for team_avg in [home_goals_avg, away_goals_avg]]\n",
    "    return(np.outer(np.array(team_pred[0]), np.array(team_pred[1])))\n",
    "simulate_match(poisson_model, 'Besiktas', 'Kasimpasa', max_goals=3)"
   ]
  },
  {
   "cell_type": "markdown",
   "metadata": {},
   "source": [
    "According to result matrix, rows represent the Besiktas (HomeTeam) and columns indicate the Kasimpasa (AwayTeam). \n",
    "When we analyze matrix 2 in depth , along the diagonal both teams score the same number of goals. For example, the probability of draw without scores is $P(0-0)=0.0347$, while the odds of a draw with single goal is $P(1-1)=0.0767$. So we can calculate the odds of draw by summing all  the diagonal values.\n",
    "\n",
    "The area under the diagonal shows us the situations that Besiktas won, while the area above the diagonal shows us the situations Kasimpasa won.\n",
    "\n",
    "It can also be calculated over 2.5 goals or below from the result matrix.\n",
    "\n",
    "\n",
    "Now let us let us calculate the probability of Besiktas (HomeTeam) winning the match under the maximum of 10 goals,"
   ]
  },
  {
   "cell_type": "code",
   "execution_count": null,
   "metadata": {
    "collapsed": true
   },
   "outputs": [],
   "source": [
    "Now let us let us calculate the probability of Besiktas (HomeTeam) winning the match under the maximum of 10 goals,"
   ]
  },
  {
   "cell_type": "code",
   "execution_count": 31,
   "metadata": {
    "collapsed": false
   },
   "outputs": [
    {
     "data": {
      "text/plain": [
       "0.73217305721444914"
      ]
     },
     "execution_count": 31,
     "metadata": {},
     "output_type": "execute_result"
    }
   ],
   "source": [
    "bes_kas = simulate_match(poisson_model, \"Besiktas\", \"Kasimpasa\", max_goals=10)\n",
    "# Besiktas win\n",
    "np.sum(np.tril(bes_kas, -1))"
   ]
  },
  {
   "cell_type": "markdown",
   "metadata": {},
   "source": [
    "And the probability of Kasimpasa winning the match under the maximum of 10 goals,"
   ]
  },
  {
   "cell_type": "code",
   "execution_count": 32,
   "metadata": {
    "collapsed": false
   },
   "outputs": [
    {
     "data": {
      "text/plain": [
       "0.10634960560439147"
      ]
     },
     "execution_count": 32,
     "metadata": {},
     "output_type": "execute_result"
    }
   ],
   "source": [
    " #Kasimpasa win\n",
    "np.sum(np.triu(bes_kas, 1))"
   ]
  },
  {
   "cell_type": "markdown",
   "metadata": {},
   "source": [
    "Last, the probability of draw,"
   ]
  },
  {
   "cell_type": "code",
   "execution_count": 34,
   "metadata": {
    "collapsed": false
   },
   "outputs": [
    {
     "data": {
      "text/plain": [
       "0.16142144575001555"
      ]
     },
     "execution_count": 34,
     "metadata": {},
     "output_type": "execute_result"
    }
   ],
   "source": [
    "# draw\n",
    "np.sum(np.diag(bes_kas))"
   ]
  },
  {
   "cell_type": "code",
   "execution_count": null,
   "metadata": {
    "collapsed": true
   },
   "outputs": [],
   "source": []
  }
 ],
 "metadata": {
  "kernelspec": {
   "display_name": "Python 3",
   "language": "python",
   "name": "python3"
  },
  "language_info": {
   "codemirror_mode": {
    "name": "ipython",
    "version": 3
   },
   "file_extension": ".py",
   "mimetype": "text/x-python",
   "name": "python",
   "nbconvert_exporter": "python",
   "pygments_lexer": "ipython3",
   "version": "3.5.2"
  }
 },
 "nbformat": 4,
 "nbformat_minor": 2
}
